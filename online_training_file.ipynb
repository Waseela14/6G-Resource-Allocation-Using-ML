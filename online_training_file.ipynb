{
 "cells": [
  {
   "cell_type": "code",
   "execution_count": 2,
   "id": "05168a19",
   "metadata": {},
   "outputs": [],
   "source": [
    "# Import necessary libraries\n",
    "from sklearn.tree import DecisionTreeClassifier\n",
    "from sklearn.metrics import accuracy_score"
   ]
  },
  {
   "cell_type": "code",
   "execution_count": 3,
   "id": "a8bc2d87",
   "metadata": {},
   "outputs": [],
   "source": [
    "# Initialize decision tree model\n",
    "model = DecisionTreeClassifier()\n",
    "df = pd.read_csv(r'E:\\Internships\\CSVs\\1ALTE.csv')"
   ]
  },
  {
   "cell_type": "code",
   "execution_count": 4,
   "id": "429383e9",
   "metadata": {},
   "outputs": [],
   "source": [
    "# Define the online learning function\n",
    "def online_learning(X, y):\n",
    "    # Update the model with new data\n",
    "    model.partial_fit(X, y)"
   ]
  },
  {
   "cell_type": "code",
   "execution_count": 5,
   "id": "db446118",
   "metadata": {},
   "outputs": [],
   "source": [
    "# Load the initial training data\n",
    "X_train = ...\n",
    "y_train = ..   "
   ]
  },
  {
   "cell_type": "code",
   "execution_count": 11,
   "id": "1c4c73da",
   "metadata": {},
   "outputs": [],
   "source": [
    "# Train the initial model on the training data\n",
    "model.fit(X_train, y_train)"
   ]
  },
  {
   "cell_type": "code",
   "execution_count": 12,
   "id": "18497d36",
   "metadata": {},
   "outputs": [],
   "source": [
    "# Loop through new incoming data\n",
    "while True:\n",
    "    # Load new incoming data\n",
    "    X_new = ...\n",
    "    y_new = ..."
   ]
  },
  {
   "cell_type": "code",
   "execution_count": 13,
   "id": "50c2598a",
   "metadata": {},
   "outputs": [],
   "source": [
    "# Update the model with new data using the online learning function\n",
    "online_learning(X_new, y_new)\n",
    "# Evaluate the model's performance\n",
    "    y_pred = model.predict(X_new)\n",
    "    accuracy = accuracy_score(y_new, y_pred)\n",
    "    print(\"Accuracy:\", accuracy)"
   ]
  },
  {
   "cell_type": "code",
   "execution_count": null,
   "id": "1a014f42",
   "metadata": {},
   "outputs": [],
   "source": []
  },
  {
   "cell_type": "code",
   "execution_count": null,
   "id": "39c1814c",
   "metadata": {},
   "outputs": [],
   "source": [
    "\n"
   ]
  },
  {
   "cell_type": "code",
   "execution_count": null,
   "id": "22052d28",
   "metadata": {},
   "outputs": [],
   "source": []
  },
  {
   "cell_type": "code",
   "execution_count": null,
   "id": "80490972",
   "metadata": {},
   "outputs": [],
   "source": []
  },
  {
   "cell_type": "code",
   "execution_count": null,
   "id": "181f1568",
   "metadata": {},
   "outputs": [],
   "source": []
  },
  {
   "cell_type": "code",
   "execution_count": null,
   "id": "b7132e91",
   "metadata": {},
   "outputs": [],
   "source": []
  }
 ],
 "metadata": {
  "kernelspec": {
   "display_name": "Python 3 (ipykernel)",
   "language": "python",
   "name": "python3"
  },
  "language_info": {
   "codemirror_mode": {
    "name": "ipython",
    "version": 3
   },
   "file_extension": ".py",
   "mimetype": "text/x-python",
   "name": "python",
   "nbconvert_exporter": "python",
   "pygments_lexer": "ipython3",
   "version": "3.9.13"
  }
 },
 "nbformat": 4,
 "nbformat_minor": 5
}
