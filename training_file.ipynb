{
 "cells": [
  {
   "cell_type": "code",
   "execution_count": 1,
   "id": "59a18eb3",
   "metadata": {},
   "outputs": [],
   "source": [
    "import pandas as pd\n",
    "from sklearn.tree import DecisionTreeClassifier # Import Decision Tree Classifier\n",
    "from sklearn.model_selection import train_test_split # Import train_test_split function\n",
    "from sklearn import metrics #Import scikit-learn metrics module for accuracy calculation\n",
    "from matplotlib import pyplot as plt\n",
    "from sklearn import tree\n",
    "from sklearn.model_selection import GridSearchCV\n",
    "import pickle\n",
    "from sklearn.metrics import classification_report, confusion_matrix"
   ]
  },
  {
   "cell_type": "code",
   "execution_count": 2,
   "id": "dc0f0395",
   "metadata": {},
   "outputs": [],
   "source": [
    "df = pd.read_csv(r'E:\\Internships\\CSVs\\7ALTE.csv')"
   ]
  },
  {
   "cell_type": "code",
   "execution_count": 3,
   "id": "28965cd8",
   "metadata": {},
   "outputs": [],
   "source": [
    "X = df[[ 'PRBUsageUL', 'PRBUsageDL','meanThr_DL', 'meanThr_UL', 'maxThr_DL', 'maxThr_UL', 'meanUE_DL', 'meanUE_UL', 'maxUE_DL', 'maxUE_UL', 'maxUE_UL+DL']]\n",
    "\n",
    "y = df['Unusual']"
   ]
  },
  {
   "cell_type": "code",
   "execution_count": 4,
   "id": "bd7d602d",
   "metadata": {},
   "outputs": [],
   "source": [
    "# Split dataset into training set and test set\n",
    "X_train, X_val, y_train, y_val = train_test_split(X, y, test_size=0.3, random_state=1, stratify = y)  "
   ]
  },
  {
   "cell_type": "code",
   "execution_count": 5,
   "id": "6471e473",
   "metadata": {},
   "outputs": [
    {
     "data": {
      "text/plain": [
       "DecisionTreeClassifier(max_depth=12, min_samples_leaf=5)"
      ]
     },
     "execution_count": 5,
     "metadata": {},
     "output_type": "execute_result"
    }
   ],
   "source": [
    "tree = DecisionTreeClassifier(criterion = 'gini', max_depth=12, min_samples_leaf=5)\n",
    "tree.fit(X_train, y_train)"
   ]
  },
  {
   "cell_type": "code",
   "execution_count": 10,
   "id": "c59f70da",
   "metadata": {},
   "outputs": [],
   "source": [
    "# Make predictions on new data\n",
    "predictions = tree.predict(X_val)"
   ]
  },
  {
   "cell_type": "code",
   "execution_count": 11,
   "id": "2778900a",
   "metadata": {},
   "outputs": [
    {
     "name": "stdout",
     "output_type": "stream",
     "text": [
      "Validation score: 0.9660493827160493\n"
     ]
    }
   ],
   "source": [
    "# Evaluate performance on validation set\n",
    "score = tree.score(X_val, y_val)\n",
    "print('Validation score:', score)"
   ]
  },
  {
   "cell_type": "code",
   "execution_count": 12,
   "id": "edf91a75",
   "metadata": {},
   "outputs": [
    {
     "name": "stdout",
     "output_type": "stream",
     "text": [
      "[[227   5]\n",
      " [  6  86]]\n"
     ]
    }
   ],
   "source": [
    "#Confusion Matrix of Validation Class\n",
    "print(confusion_matrix(y_val, predictions))"
   ]
  },
  {
   "cell_type": "code",
   "execution_count": null,
   "id": "4730e12b",
   "metadata": {},
   "outputs": [],
   "source": [
    "fig, ax = plt.subplots()\n",
    "ax.scatter(x, y)"
   ]
  },
  {
   "cell_type": "code",
   "execution_count": 14,
   "id": "4a94f731",
   "metadata": {},
   "outputs": [
    {
     "data": {
      "image/png": "[encoded data removed]",
      "text/plain": [
       "<Figure size 640x480 with 1 Axes>"
      ]
     },
     "metadata": {},
     "output_type": "display_data"
    }
   ],
   "source": [
    "fig, ax = plt.subplots()\n",
    "ax.scatter(X['PRBUsageUL'], X['PRBUsageDL'])\n",
    "ax.set_xlabel('PRBUsageUL')\n",
    "ax.set_ylabel('PRBUsageDL')\n",
    "ax.tick_params(axis='x', colors='r')\n",
    "ax.tick_params(axis='y', colors='b')\n",
    "ax.set_title('VAlIDATION SCATTER PLOT')\n",
    "plt.show()"
   ]
  },
  {
   "cell_type": "code",
   "execution_count": null,
   "id": "aa226c71",
   "metadata": {},
   "outputs": [],
   "source": []
  },
  {
   "cell_type": "code",
   "execution_count": 16,
   "id": "52c6daeb",
   "metadata": {},
   "outputs": [
    {
     "name": "stdout",
     "output_type": "stream",
     "text": [
      "              precision    recall  f1-score   support\n",
      "\n",
      "           0       0.97      0.98      0.98       232\n",
      "           1       0.95      0.93      0.94        92\n",
      "\n",
      "    accuracy                           0.97       324\n",
      "   macro avg       0.96      0.96      0.96       324\n",
      "weighted avg       0.97      0.97      0.97       324\n",
      "\n"
     ]
    }
   ],
   "source": [
    "# CLASSIFICATION REPORT OF VALIDATION\n",
    "print(classification_report(y_val, predictions))"
   ]
  },
  {
   "cell_type": "code",
   "execution_count": 7,
   "id": "b7beaa18",
   "metadata": {},
   "outputs": [],
   "source": [
    "# Save model\n",
    "with open('tree.pkl', 'wb') as f:\n",
    "    pickle.dump(tree, f)"
   ]
  },
  {
   "cell_type": "code",
   "execution_count": null,
   "id": "7c6ea634",
   "metadata": {},
   "outputs": [],
   "source": []
  }
 ],
 "metadata": {
  "kernelspec": {
   "display_name": "Python 3 (ipykernel)",
   "language": "python",
   "name": "python3"
  },
  "language_info": {
   "codemirror_mode": {
    "name": "ipython",
    "version": 3
   },
   "file_extension": ".py",
   "mimetype": "text/x-python",
   "name": "python",
   "nbconvert_exporter": "python",
   "pygments_lexer": "ipython3",
   "version": "3.9.13"
  }
 },
 "nbformat": 4,
 "nbformat_minor": 5
}
