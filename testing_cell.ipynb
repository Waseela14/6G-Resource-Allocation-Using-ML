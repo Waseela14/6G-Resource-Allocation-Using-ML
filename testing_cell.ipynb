{
 "cells": [
  {
   "cell_type": "code",
   "execution_count": 2,
   "id": "4fa94a78",
   "metadata": {},
   "outputs": [],
   "source": [
    "import pandas as pd\n",
    "from sklearn.tree import DecisionTreeClassifier # Import Decision Tree Classifier\n",
    "from sklearn.model_selection import train_test_split # Import train_test_split function\n",
    "from sklearn import metrics #Import scikit-learn metrics module for accuracy calculation\n",
    "from matplotlib import pyplot as plt\n",
    "from sklearn import tree\n",
    "from sklearn.model_selection import GridSearchCV\n",
    "import pickle\n",
    "\n",
    "from sklearn.metrics import classification_report, confusion_matrix"
   ]
  },
  {
   "cell_type": "code",
   "execution_count": 3,
   "id": "b8c6b415",
   "metadata": {},
   "outputs": [],
   "source": [
    "# Load new data\n",
    "new_df = pd.read_csv(r'E:\\Internships\\CSVs\\7BLTE.csv')"
   ]
  },
  {
   "cell_type": "code",
   "execution_count": 4,
   "id": "9a70bfd8",
   "metadata": {},
   "outputs": [],
   "source": [
    "# Extract cell for testing\n",
    "X_test = new_df[[ 'PRBUsageUL', 'PRBUsageDL','meanThr_DL', 'meanThr_UL', 'maxThr_DL', 'maxThr_UL', 'meanUE_DL', 'meanUE_UL', 'maxUE_DL', 'maxUE_UL', 'maxUE_UL+DL']]\n",
    "\n",
    "y_test =new_df['Unusual'] "
   ]
  },
  {
   "cell_type": "code",
   "execution_count": 5,
   "id": "c649d19e",
   "metadata": {},
   "outputs": [],
   "source": [
    "# Load trained model\n",
    "with open('tree.pkl', 'rb') as f:\n",
    "    tree = pickle.load(f)"
   ]
  },
  {
   "cell_type": "code",
   "execution_count": 6,
   "id": "56806e8c",
   "metadata": {},
   "outputs": [
    {
     "name": "stdout",
     "output_type": "stream",
     "text": [
      "Test score: 0.864406779661017\n"
     ]
    }
   ],
   "source": [
    "# Make predictions on new data\n",
    "predictions = tree.predict(X_test)\n",
    "# Evaluate performance on new data\n",
    "score = tree.score(X_test, y_test)\n",
    "print('Test score:', score)"
   ]
  },
  {
   "cell_type": "code",
   "execution_count": null,
   "id": "830514fd",
   "metadata": {},
   "outputs": [],
   "source": []
  },
  {
   "cell_type": "code",
   "execution_count": 7,
   "id": "98948f15",
   "metadata": {},
   "outputs": [
    {
     "name": "stdout",
     "output_type": "stream",
     "text": [
      "[[791  18]\n",
      " [134 178]]\n"
     ]
    }
   ],
   "source": [
    "#Confusion Matrix of Testing Class\n",
    "print(confusion_matrix(y_test, predictions))"
   ]
  },
  {
   "cell_type": "code",
   "execution_count": null,
   "id": "2ed6dd98",
   "metadata": {},
   "outputs": [],
   "source": []
  },
  {
   "cell_type": "code",
   "execution_count": 9,
   "id": "ed27d9f9",
   "metadata": {},
   "outputs": [
    {
     "data": {
      "image/png": "[encoded data removed]",
      "text/plain": [
       "<Figure size 640x480 with 1 Axes>"
      ]
     },
     "metadata": {},
     "output_type": "display_data"
    }
   ],
   "source": [
    "fig, ax = plt.subplots()\n",
    "ax.scatter(X_test['PRBUsageUL'], X_test['PRBUsageDL'])\n",
    "ax.set_xlabel('PRBUsageUL')\n",
    "ax.set_ylabel('PRBUsageDL')\n",
    "ax.tick_params(axis='x', colors='r')\n",
    "ax.tick_params(axis='y', colors='b')\n",
    "ax.set_title('TESTING SCATTER PLOT')\n",
    "plt.show()"
   ]
  },
  {
   "cell_type": "code",
   "execution_count": 10,
   "id": "fd469e30",
   "metadata": {},
   "outputs": [
    {
     "name": "stdout",
     "output_type": "stream",
     "text": [
      "              precision    recall  f1-score   support\n",
      "\n",
      "           0       0.86      0.98      0.91       809\n",
      "           1       0.91      0.57      0.70       312\n",
      "\n",
      "    accuracy                           0.86      1121\n",
      "   macro avg       0.88      0.77      0.81      1121\n",
      "weighted avg       0.87      0.86      0.85      1121\n",
      "\n"
     ]
    }
   ],
   "source": [
    "# CLASSIFICATION REPORT OF TESTING DATA\n",
    "print(classification_report(y_test, predictions))"
   ]
  },
  {
   "cell_type": "code",
   "execution_count": null,
   "id": "cc8c355c",
   "metadata": {},
   "outputs": [],
   "source": []
  }
 ],
 "metadata": {
  "kernelspec": {
   "display_name": "Python 3 (ipykernel)",
   "language": "python",
   "name": "python3"
  },
  "language_info": {
   "codemirror_mode": {
    "name": "ipython",
    "version": 3
   },
   "file_extension": ".py",
   "mimetype": "text/x-python",
   "name": "python",
   "nbconvert_exporter": "python",
   "pygments_lexer": "ipython3",
   "version": "3.9.13"
  }
 },
 "nbformat": 4,
 "nbformat_minor": 5
}
